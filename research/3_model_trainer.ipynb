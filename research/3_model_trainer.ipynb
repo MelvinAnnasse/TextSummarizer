{
 "cells": [
  {
   "cell_type": "code",
   "execution_count": 1,
   "metadata": {},
   "outputs": [
    {
     "data": {
      "text/plain": [
       "'c:\\\\Users\\\\lenovo\\\\Desktop\\\\Study\\\\AI_Projects\\\\TextSummarizer\\\\research'"
      ]
     },
     "execution_count": 1,
     "metadata": {},
     "output_type": "execute_result"
    }
   ],
   "source": [
    "import os\n",
    "%pwd"
   ]
  },
  {
   "cell_type": "code",
   "execution_count": 2,
   "metadata": {},
   "outputs": [],
   "source": [
    "os.chdir(\"../\")"
   ]
  },
  {
   "cell_type": "code",
   "execution_count": 3,
   "metadata": {},
   "outputs": [
    {
     "data": {
      "text/plain": [
       "'c:\\\\Users\\\\lenovo\\\\Desktop\\\\Study\\\\AI_Projects\\\\TextSummarizer'"
      ]
     },
     "execution_count": 3,
     "metadata": {},
     "output_type": "execute_result"
    }
   ],
   "source": [
    "%pwd"
   ]
  },
  {
   "cell_type": "markdown",
   "metadata": {},
   "source": [
    "Config Entity Update:"
   ]
  },
  {
   "cell_type": "code",
   "execution_count": 4,
   "metadata": {},
   "outputs": [],
   "source": [
    "from dataclasses import dataclass\n",
    "from pathlib import Path\n",
    "\n",
    "@dataclass\n",
    "class ModelTrainerConfig:\n",
    "    root_dir: Path\n",
    "    data_path: Path\n",
    "    model_ckpt: Path\n",
    "    num_train_epochs: int\n",
    "    warmup_steps: int\n",
    "    per_device_train_batch_size: int\n",
    "    weight_decay: float\n",
    "    logging_steps: int\n",
    "    evaluation_strategy: int\n",
    "    eval_steps: int\n",
    "    save_steps: float\n",
    "    gradient_accumulation_steps: int"
   ]
  },
  {
   "cell_type": "markdown",
   "metadata": {},
   "source": [
    "Configuration Manager Update:"
   ]
  },
  {
   "cell_type": "code",
   "execution_count": 5,
   "metadata": {},
   "outputs": [],
   "source": [
    "from src.textSummarizer.constants import *\n",
    "from src.textSummarizer.utils.common import read_yaml, create_directories"
   ]
  },
  {
   "cell_type": "code",
   "execution_count": 6,
   "metadata": {},
   "outputs": [],
   "source": [
    "class ConfigurationManager():\n",
    "        def __init__(\n",
    "            self,\n",
    "            config_filepath = CONFIG_FILE_PATH,\n",
    "            params_filepath = PARAMS_FILE_PATH):\n",
    "\n",
    "            self.config = read_yaml(config_filepath)\n",
    "            self.params = read_yaml(params_filepath)\n",
    "\n",
    "            create_directories([self.config.artifacts_root])\n",
    "\n",
    "        def get_model_trainer_config(self)-> ModelTrainerConfig:\n",
    "            config = self.config.model_trainer\n",
    "            params = self.params.TrainingArguments\n",
    "\n",
    "            create_directories([config.root_dir])\n",
    "\n",
    "            model_trainer_config=ModelTrainerConfig(\n",
    "                root_dir=config.root_dir,\n",
    "                data_path=config.data_path,\n",
    "                model_ckpt = config.model_ckpt,\n",
    "                num_train_epochs = params.num_train_epochs,\n",
    "                warmup_steps = params.warmup_steps,\n",
    "                per_device_train_batch_size = params.per_device_train_batch_size,\n",
    "                weight_decay = params.weight_decay,\n",
    "                logging_steps = params.logging_steps,\n",
    "                evaluation_strategy = params.evaluation_strategy,\n",
    "                eval_steps = params.evaluation_strategy,\n",
    "                save_steps = params.save_steps,\n",
    "                gradient_accumulation_steps = params.gradient_accumulation_steps\n",
    "            )\n",
    "            return model_trainer_config"
   ]
  },
  {
   "cell_type": "markdown",
   "metadata": {},
   "source": [
    "Component Update:"
   ]
  },
  {
   "cell_type": "code",
   "execution_count": 7,
   "metadata": {},
   "outputs": [
    {
     "name": "stderr",
     "output_type": "stream",
     "text": [
      "c:\\Users\\lenovo\\Desktop\\Study\\AI_Projects\\TextSummarizer\\tsvenv\\lib\\site-packages\\tqdm\\auto.py:21: TqdmWarning: IProgress not found. Please update jupyter and ipywidgets. See https://ipywidgets.readthedocs.io/en/stable/user_install.html\n",
      "  from .autonotebook import tqdm as notebook_tqdm\n"
     ]
    },
    {
     "name": "stdout",
     "output_type": "stream",
     "text": [
      "[2025-04-04 14:26:57,283: INFO: config: PyTorch version 2.6.0 available.]\n"
     ]
    }
   ],
   "source": [
    "from transformers import AutoTokenizer, AutoModelForSeq2SeqLM, DataCollatorForSeq2Seq\n",
    "from transformers import TrainingArguments, Trainer\n",
    "import torch\n",
    "from datasets import load_from_disk\n",
    "\n"
   ]
  },
  {
   "cell_type": "code",
   "execution_count": 8,
   "metadata": {},
   "outputs": [],
   "source": [
    "class ModelTrainer():\n",
    "    def __init__(self, config:ModelTrainerConfig):\n",
    "        self.config = config\n",
    "\n",
    "    def train(self):\n",
    "        device = \"cuda\" if torch.cuda.is_available() else \"cpu\"\n",
    "        tokenizer = AutoTokenizer.from_pretrained(self.config.model_ckpt)\n",
    "        model_pegasus = AutoModelForSeq2SeqLM.from_pretrained(self.config.model_ckpt).to(device)\n",
    "        seq2seq_data_collator = DataCollatorForSeq2Seq(tokenizer, model=model_pegasus)\n",
    "\n",
    "        #loading the dataset\n",
    "        dataset_samsum_pt = load_from_disk(self.config.data_path)\n",
    "\n",
    "        training_args = TrainingArguments(output_dir=self.config.root_dir,\n",
    "                                          num_train_epochs= self.config.num_train_epochs,\n",
    "                                          warmup_steps=self.config.warmup_steps,\n",
    "                                          per_device_train_batch_size=self.config.per_device_train_batch_size,\n",
    "                                          weight_decay=self.config.weight_decay,\n",
    "                                          logging_steps=self.config.logging_steps,\n",
    "                                          eval_strategy=self.config.evaluation_strategy,\n",
    "                                          eval_steps=self.config.eval_steps,\n",
    "                                          save_steps=self.config.save_steps,\n",
    "                                          gradient_accumulation_steps=self.config.gradient_accumulation_steps)\n",
    "\n",
    "        trainer = Trainer(model=model_pegasus,TrainingArguments=training_args,\n",
    "                          data_collator=seq2seq_data_collator,\n",
    "                          train_dataset=dataset_samsum_pt[\"test\"],\n",
    "                          eval_dataset=dataset_samsum_pt[\"validation\"])\n",
    "        \n",
    "        trainer.train()\n",
    "\n",
    "        ## Save model\n",
    "        model_pegasus.save_pretrained(os.path.join(self.config.root_dir,\"pegasus-samsum-model\"))\n",
    "        ## Save tokenizer\n",
    "        tokenizer.save_pretrained(os.path.join(self.config.root_dir,\"tokenizer\"))\n",
    "\n"
   ]
  },
  {
   "cell_type": "code",
   "execution_count": null,
   "metadata": {},
   "outputs": [
    {
     "name": "stdout",
     "output_type": "stream",
     "text": [
      "Requirement already satisfied: accelerate in c:\\users\\lenovo\\desktop\\study\\ai_projects\\textsummarizer\\tsvenv\\lib\\site-packages (1.6.0)\n",
      "Requirement already satisfied: numpy<3.0.0,>=1.17 in c:\\users\\lenovo\\desktop\\study\\ai_projects\\textsummarizer\\tsvenv\\lib\\site-packages (from accelerate) (2.2.4)\n",
      "Requirement already satisfied: packaging>=20.0 in c:\\users\\lenovo\\desktop\\study\\ai_projects\\textsummarizer\\tsvenv\\lib\\site-packages (from accelerate) (24.2)\n",
      "Requirement already satisfied: psutil in c:\\users\\lenovo\\desktop\\study\\ai_projects\\textsummarizer\\tsvenv\\lib\\site-packages (from accelerate) (7.0.0)\n",
      "Requirement already satisfied: pyyaml in c:\\users\\lenovo\\desktop\\study\\ai_projects\\textsummarizer\\tsvenv\\lib\\site-packages (from accelerate) (6.0.2)\n",
      "Requirement already satisfied: torch>=2.0.0 in c:\\users\\lenovo\\desktop\\study\\ai_projects\\textsummarizer\\tsvenv\\lib\\site-packages (from accelerate) (2.6.0)\n",
      "Requirement already satisfied: huggingface-hub>=0.21.0 in c:\\users\\lenovo\\desktop\\study\\ai_projects\\textsummarizer\\tsvenv\\lib\\site-packages (from accelerate) (0.30.1)\n",
      "Requirement already satisfied: safetensors>=0.4.3 in c:\\users\\lenovo\\desktop\\study\\ai_projects\\textsummarizer\\tsvenv\\lib\\site-packages (from accelerate) (0.5.3)\n",
      "Requirement already satisfied: filelock in c:\\users\\lenovo\\desktop\\study\\ai_projects\\textsummarizer\\tsvenv\\lib\\site-packages (from huggingface-hub>=0.21.0->accelerate) (3.18.0)\n",
      "Requirement already satisfied: fsspec>=2023.5.0 in c:\\users\\lenovo\\desktop\\study\\ai_projects\\textsummarizer\\tsvenv\\lib\\site-packages (from huggingface-hub>=0.21.0->accelerate) (2024.12.0)\n",
      "Requirement already satisfied: requests in c:\\users\\lenovo\\desktop\\study\\ai_projects\\textsummarizer\\tsvenv\\lib\\site-packages (from huggingface-hub>=0.21.0->accelerate) (2.32.3)\n",
      "Requirement already satisfied: tqdm>=4.42.1 in c:\\users\\lenovo\\desktop\\study\\ai_projects\\textsummarizer\\tsvenv\\lib\\site-packages (from huggingface-hub>=0.21.0->accelerate) (4.67.1)\n",
      "Requirement already satisfied: typing-extensions>=3.7.4.3 in c:\\users\\lenovo\\desktop\\study\\ai_projects\\textsummarizer\\tsvenv\\lib\\site-packages (from huggingface-hub>=0.21.0->accelerate) (4.13.0)\n",
      "Requirement already satisfied: networkx in c:\\users\\lenovo\\desktop\\study\\ai_projects\\textsummarizer\\tsvenv\\lib\\site-packages (from torch>=2.0.0->accelerate) (3.4.2)\n",
      "Requirement already satisfied: jinja2 in c:\\users\\lenovo\\desktop\\study\\ai_projects\\textsummarizer\\tsvenv\\lib\\site-packages (from torch>=2.0.0->accelerate) (3.1.2)\n",
      "Requirement already satisfied: sympy==1.13.1 in c:\\users\\lenovo\\desktop\\study\\ai_projects\\textsummarizer\\tsvenv\\lib\\site-packages (from torch>=2.0.0->accelerate) (1.13.1)\n",
      "Requirement already satisfied: mpmath<1.4,>=1.1.0 in c:\\users\\lenovo\\desktop\\study\\ai_projects\\textsummarizer\\tsvenv\\lib\\site-packages (from sympy==1.13.1->torch>=2.0.0->accelerate) (1.3.0)\n",
      "Requirement already satisfied: colorama in c:\\users\\lenovo\\desktop\\study\\ai_projects\\textsummarizer\\tsvenv\\lib\\site-packages (from tqdm>=4.42.1->huggingface-hub>=0.21.0->accelerate) (0.4.6)\n",
      "Requirement already satisfied: MarkupSafe>=2.0 in c:\\users\\lenovo\\desktop\\study\\ai_projects\\textsummarizer\\tsvenv\\lib\\site-packages (from jinja2->torch>=2.0.0->accelerate) (3.0.2)\n",
      "Requirement already satisfied: charset-normalizer<4,>=2 in c:\\users\\lenovo\\desktop\\study\\ai_projects\\textsummarizer\\tsvenv\\lib\\site-packages (from requests->huggingface-hub>=0.21.0->accelerate) (3.4.1)\n",
      "Requirement already satisfied: idna<4,>=2.5 in c:\\users\\lenovo\\desktop\\study\\ai_projects\\textsummarizer\\tsvenv\\lib\\site-packages (from requests->huggingface-hub>=0.21.0->accelerate) (3.10)\n",
      "Requirement already satisfied: urllib3<3,>=1.21.1 in c:\\users\\lenovo\\desktop\\study\\ai_projects\\textsummarizer\\tsvenv\\lib\\site-packages (from requests->huggingface-hub>=0.21.0->accelerate) (2.3.0)\n",
      "Requirement already satisfied: certifi>=2017.4.17 in c:\\users\\lenovo\\desktop\\study\\ai_projects\\textsummarizer\\tsvenv\\lib\\site-packages (from requests->huggingface-hub>=0.21.0->accelerate) (2025.1.31)\n",
      "Found existing installation: transformers 4.50.3\n",
      "Uninstalling transformers-4.50.3:\n",
      "  Successfully uninstalled transformers-4.50.3\n",
      "Found existing installation: accelerate 1.6.0\n",
      "Uninstalling accelerate-1.6.0:\n",
      "  Successfully uninstalled accelerate-1.6.0\n",
      "Collecting transformers\n",
      "  Using cached transformers-4.50.3-py3-none-any.whl.metadata (39 kB)\n",
      "Collecting accelerate\n",
      "  Using cached accelerate-1.6.0-py3-none-any.whl.metadata (19 kB)\n",
      "Requirement already satisfied: filelock in c:\\users\\lenovo\\desktop\\study\\ai_projects\\textsummarizer\\tsvenv\\lib\\site-packages (from transformers) (3.18.0)\n",
      "Requirement already satisfied: huggingface-hub<1.0,>=0.26.0 in c:\\users\\lenovo\\desktop\\study\\ai_projects\\textsummarizer\\tsvenv\\lib\\site-packages (from transformers) (0.30.1)\n",
      "Requirement already satisfied: numpy>=1.17 in c:\\users\\lenovo\\desktop\\study\\ai_projects\\textsummarizer\\tsvenv\\lib\\site-packages (from transformers) (2.2.4)\n",
      "Requirement already satisfied: packaging>=20.0 in c:\\users\\lenovo\\desktop\\study\\ai_projects\\textsummarizer\\tsvenv\\lib\\site-packages (from transformers) (24.2)\n",
      "Requirement already satisfied: pyyaml>=5.1 in c:\\users\\lenovo\\desktop\\study\\ai_projects\\textsummarizer\\tsvenv\\lib\\site-packages (from transformers) (6.0.2)\n",
      "Requirement already satisfied: regex!=2019.12.17 in c:\\users\\lenovo\\desktop\\study\\ai_projects\\textsummarizer\\tsvenv\\lib\\site-packages (from transformers) (2024.11.6)\n",
      "Requirement already satisfied: requests in c:\\users\\lenovo\\desktop\\study\\ai_projects\\textsummarizer\\tsvenv\\lib\\site-packages (from transformers) (2.32.3)\n",
      "Requirement already satisfied: tokenizers<0.22,>=0.21 in c:\\users\\lenovo\\desktop\\study\\ai_projects\\textsummarizer\\tsvenv\\lib\\site-packages (from transformers) (0.21.1)\n",
      "Requirement already satisfied: safetensors>=0.4.3 in c:\\users\\lenovo\\desktop\\study\\ai_projects\\textsummarizer\\tsvenv\\lib\\site-packages (from transformers) (0.5.3)\n",
      "Requirement already satisfied: tqdm>=4.27 in c:\\users\\lenovo\\desktop\\study\\ai_projects\\textsummarizer\\tsvenv\\lib\\site-packages (from transformers) (4.67.1)\n",
      "Requirement already satisfied: psutil in c:\\users\\lenovo\\desktop\\study\\ai_projects\\textsummarizer\\tsvenv\\lib\\site-packages (from accelerate) (7.0.0)\n",
      "Requirement already satisfied: torch>=2.0.0 in c:\\users\\lenovo\\desktop\\study\\ai_projects\\textsummarizer\\tsvenv\\lib\\site-packages (from accelerate) (2.6.0)\n",
      "Requirement already satisfied: fsspec>=2023.5.0 in c:\\users\\lenovo\\desktop\\study\\ai_projects\\textsummarizer\\tsvenv\\lib\\site-packages (from huggingface-hub<1.0,>=0.26.0->transformers) (2024.12.0)\n",
      "Requirement already satisfied: typing-extensions>=3.7.4.3 in c:\\users\\lenovo\\desktop\\study\\ai_projects\\textsummarizer\\tsvenv\\lib\\site-packages (from huggingface-hub<1.0,>=0.26.0->transformers) (4.13.0)\n",
      "Requirement already satisfied: networkx in c:\\users\\lenovo\\desktop\\study\\ai_projects\\textsummarizer\\tsvenv\\lib\\site-packages (from torch>=2.0.0->accelerate) (3.4.2)\n",
      "Requirement already satisfied: jinja2 in c:\\users\\lenovo\\desktop\\study\\ai_projects\\textsummarizer\\tsvenv\\lib\\site-packages (from torch>=2.0.0->accelerate) (3.1.2)\n",
      "Requirement already satisfied: sympy==1.13.1 in c:\\users\\lenovo\\desktop\\study\\ai_projects\\textsummarizer\\tsvenv\\lib\\site-packages (from torch>=2.0.0->accelerate) (1.13.1)\n",
      "Requirement already satisfied: mpmath<1.4,>=1.1.0 in c:\\users\\lenovo\\desktop\\study\\ai_projects\\textsummarizer\\tsvenv\\lib\\site-packages (from sympy==1.13.1->torch>=2.0.0->accelerate) (1.3.0)\n",
      "Requirement already satisfied: colorama in c:\\users\\lenovo\\desktop\\study\\ai_projects\\textsummarizer\\tsvenv\\lib\\site-packages (from tqdm>=4.27->transformers) (0.4.6)\n",
      "Requirement already satisfied: charset-normalizer<4,>=2 in c:\\users\\lenovo\\desktop\\study\\ai_projects\\textsummarizer\\tsvenv\\lib\\site-packages (from requests->transformers) (3.4.1)\n",
      "Requirement already satisfied: idna<4,>=2.5 in c:\\users\\lenovo\\desktop\\study\\ai_projects\\textsummarizer\\tsvenv\\lib\\site-packages (from requests->transformers) (3.10)\n",
      "Requirement already satisfied: urllib3<3,>=1.21.1 in c:\\users\\lenovo\\desktop\\study\\ai_projects\\textsummarizer\\tsvenv\\lib\\site-packages (from requests->transformers) (2.3.0)\n",
      "Requirement already satisfied: certifi>=2017.4.17 in c:\\users\\lenovo\\desktop\\study\\ai_projects\\textsummarizer\\tsvenv\\lib\\site-packages (from requests->transformers) (2025.1.31)\n",
      "Requirement already satisfied: MarkupSafe>=2.0 in c:\\users\\lenovo\\desktop\\study\\ai_projects\\textsummarizer\\tsvenv\\lib\\site-packages (from jinja2->torch>=2.0.0->accelerate) (3.0.2)\n",
      "Using cached transformers-4.50.3-py3-none-any.whl (10.2 MB)\n",
      "Using cached accelerate-1.6.0-py3-none-any.whl (354 kB)\n",
      "Installing collected packages: accelerate, transformers\n",
      "Successfully installed accelerate-1.6.0 transformers-4.50.3\n"
     ]
    },
    {
     "ename": "",
     "evalue": "",
     "output_type": "error",
     "traceback": [
      "\u001b[1;31mThe Kernel crashed while executing code in the current cell or a previous cell. \n",
      "\u001b[1;31mPlease review the code in the cell(s) to identify a possible cause of the failure. \n",
      "\u001b[1;31mClick <a href='https://aka.ms/vscodeJupyterKernelCrash'>here</a> for more info. \n",
      "\u001b[1;31mView Jupyter <a href='command:jupyter.viewOutput'>log</a> for further details."
     ]
    }
   ],
   "source": [
    "!pip install --upgrade accelerate\n",
    "!pip uninstall -y transformers accelerate\n",
    "!pip install transformers accelerate"
   ]
  },
  {
   "cell_type": "markdown",
   "metadata": {},
   "source": [
    "Model trainer Pipeline Update:"
   ]
  },
  {
   "cell_type": "code",
   "execution_count": null,
   "metadata": {},
   "outputs": [
    {
     "name": "stdout",
     "output_type": "stream",
     "text": [
      "[2025-04-04 14:28:32,555: INFO: common: yaml file: config\\config.yaml loaded successfully]\n",
      "[2025-04-04 14:28:32,612: INFO: common: yaml file: params.yaml loaded successfully]\n",
      "[2025-04-04 14:28:32,621: INFO: common: created directory at: artifacts]\n",
      "[2025-04-04 14:28:32,624: INFO: common: created directory at: artifacts/model_trainer]\n"
     ]
    }
   ],
   "source": [
    "config = ConfigurationManager()\n",
    "model_trainer_config = config.get_model_trainer_config()\n",
    "model_trainer = ModelTrainer(config=model_trainer_config)\n",
    "model_trainer.train()"
   ]
  }
 ],
 "metadata": {
  "kernelspec": {
   "display_name": "Python 3",
   "language": "python",
   "name": "python3"
  },
  "language_info": {
   "codemirror_mode": {
    "name": "ipython",
    "version": 3
   },
   "file_extension": ".py",
   "mimetype": "text/x-python",
   "name": "python",
   "nbconvert_exporter": "python",
   "pygments_lexer": "ipython3",
   "version": "3.10.16"
  }
 },
 "nbformat": 4,
 "nbformat_minor": 2
}
